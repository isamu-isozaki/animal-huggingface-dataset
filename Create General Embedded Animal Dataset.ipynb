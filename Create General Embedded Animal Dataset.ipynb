{
 "cells": [
  {
   "cell_type": "code",
   "execution_count": 1,
   "id": "1f2b2ead",
   "metadata": {},
   "outputs": [
    {
     "name": "stderr",
     "output_type": "stream",
     "text": [
      "D:\\miniconda\\envs\\diffusers\\lib\\site-packages\\numpy\\_distributor_init.py:30: UserWarning: loaded more than 1 DLL from .libs:\n",
      "D:\\miniconda\\envs\\diffusers\\lib\\site-packages\\numpy\\.libs\\libopenblas.FB5AE2TYXYH2IJRDKGDGQ3XBKLKTF43H.gfortran-win_amd64.dll\n",
      "D:\\miniconda\\envs\\diffusers\\lib\\site-packages\\numpy\\.libs\\libopenblas.GK7GX5KEQ4F6UYO3P26ULGBQYHGQO7J4.gfortran-win_amd64.dll\n",
      "  warnings.warn(\"loaded more than 1 DLL from .libs:\"\n"
     ]
    }
   ],
   "source": [
    "from datasets import load_dataset\n",
    "import torch\n",
    "import torch.nn as nn\n",
    "import torchvision\n",
    "import pytorch_lightning as pl\n",
    "import copy\n",
    "import lightly\n",
    "\n",
    "from lightly.models.modules.heads import MoCoProjectionHead\n",
    "from lightly.models.utils import deactivate_requires_grad\n",
    "from lightly.models.utils import update_momentum\n",
    "from lightly.models.utils import batch_shuffle\n",
    "from lightly.models.utils import batch_unshuffle"
   ]
  },
  {
   "cell_type": "code",
   "execution_count": 7,
   "id": "6f1226bd",
   "metadata": {},
   "outputs": [],
   "source": [
    "num_workers = 8\n",
    "batch_size = 512\n",
    "memory_bank_size = 4096\n",
    "seed = 1\n",
    "max_epochs = 100"
   ]
  },
  {
   "cell_type": "code",
   "execution_count": 2,
   "id": "62b4546e",
   "metadata": {},
   "outputs": [
    {
     "name": "stderr",
     "output_type": "stream",
     "text": [
      "Using custom data configuration Isamu136--big-animal-dataset-with-l14-e6365e3df6462f2d\n",
      "Found cached dataset parquet (D:/cache/huggingface/datasets/Isamu136___parquet/Isamu136--big-animal-dataset-with-l14-e6365e3df6462f2d/0.0.0/2a3b91fbd88a2c90d1dbbb32b460cf621d31bd5b05b934492fdef7d8d6f236ec)\n"
     ]
    },
    {
     "data": {
      "application/vnd.jupyter.widget-view+json": {
       "model_id": "0885f9d79cd14575a97657e3c1e82597",
       "version_major": 2,
       "version_minor": 0
      },
      "text/plain": [
       "  0%|          | 0/1 [00:00<?, ?it/s]"
      ]
     },
     "metadata": {},
     "output_type": "display_data"
    }
   ],
   "source": [
    "dataset = load_dataset(\"Isamu136/big-animal-dataset-with-l14\")"
   ]
  },
  {
   "cell_type": "code",
   "execution_count": 3,
   "id": "25b844e1",
   "metadata": {},
   "outputs": [
    {
     "data": {
      "text/plain": [
       "DatasetDict({\n",
       "    train: Dataset({\n",
       "        features: ['image', 'caption', 'embeddings'],\n",
       "        num_rows: 62149\n",
       "    })\n",
       "})"
      ]
     },
     "execution_count": 3,
     "metadata": {},
     "output_type": "execute_result"
    }
   ],
   "source": [
    "dataset"
   ]
  },
  {
   "cell_type": "code",
   "execution_count": 4,
   "id": "86f36c14",
   "metadata": {},
   "outputs": [
    {
     "data": {
      "text/plain": [
       "DatasetDict({\n",
       "    train: Dataset({\n",
       "        features: ['image', 'caption', 'l14_embeddings'],\n",
       "        num_rows: 62149\n",
       "    })\n",
       "})"
      ]
     },
     "execution_count": 4,
     "metadata": {},
     "output_type": "execute_result"
    }
   ],
   "source": [
    "dataset.rename_column(\"embeddings\", \"l14_embeddings\")"
   ]
  },
  {
   "cell_type": "markdown",
   "id": "82d6f6de",
   "metadata": {},
   "source": [
    "Moco"
   ]
  },
  {
   "cell_type": "code",
   "execution_count": 8,
   "id": "cbbec913",
   "metadata": {},
   "outputs": [],
   "source": [
    "class MocoModel(pl.LightningModule):\n",
    "    def __init__(self):\n",
    "        super().__init__()\n",
    "\n",
    "        # create a ResNet backbone and remove the classification head\n",
    "        resnet = lightly.models.ResNetGenerator('resnet-18', 1, num_splits=8)\n",
    "        self.backbone = nn.Sequential(\n",
    "            *list(resnet.children())[:-1],\n",
    "            nn.AdaptiveAvgPool2d(1),\n",
    "        )\n",
    "\n",
    "        # create a moco model based on ResNet\n",
    "        self.projection_head = MoCoProjectionHead(512, 512, 128)\n",
    "        self.backbone_momentum = copy.deepcopy(self.backbone)\n",
    "        self.projection_head_momentum = copy.deepcopy(self.projection_head)\n",
    "        deactivate_requires_grad(self.backbone_momentum)\n",
    "        deactivate_requires_grad(self.projection_head_momentum)\n",
    "\n",
    "        # create our loss with the optional memory bank\n",
    "        self.criterion = lightly.loss.NTXentLoss(\n",
    "            temperature=0.1,\n",
    "            memory_bank_size=memory_bank_size)\n",
    "\n",
    "    def training_step(self, batch, batch_idx):\n",
    "        (x_q, x_k), _, _ = batch\n",
    "\n",
    "        # update momentum\n",
    "        update_momentum(self.backbone, self.backbone_momentum, 0.99)\n",
    "        update_momentum(\n",
    "            self.projection_head, self.projection_head_momentum, 0.99\n",
    "        )\n",
    "\n",
    "        # get queries\n",
    "        q = self.backbone(x_q).flatten(start_dim=1)\n",
    "        q = self.projection_head(q)\n",
    "\n",
    "        # get keys\n",
    "        k, shuffle = batch_shuffle(x_k)\n",
    "        k = self.backbone_momentum(k).flatten(start_dim=1)\n",
    "        k = self.projection_head_momentum(k)\n",
    "        k = batch_unshuffle(k, shuffle)\n",
    "\n",
    "        loss = self.criterion(q, k)\n",
    "        self.log(\"train_loss_ssl\", loss)\n",
    "        return loss\n",
    "\n",
    "    def training_epoch_end(self, outputs):\n",
    "        self.custom_histogram_weights()\n",
    "\n",
    "    # We provide a helper method to log weights in tensorboard\n",
    "    # which is useful for debugging.\n",
    "    def custom_histogram_weights(self):\n",
    "        for name, params in self.named_parameters():\n",
    "            self.logger.experiment.add_histogram(\n",
    "                name, params, self.current_epoch)\n",
    "\n",
    "    def configure_optimizers(self):\n",
    "        optim = torch.optim.SGD(\n",
    "            self.parameters(),\n",
    "            lr=6e-2,\n",
    "            momentum=0.9,\n",
    "            weight_decay=5e-4,\n",
    "        )\n",
    "        scheduler = torch.optim.lr_scheduler.CosineAnnealingLR(\n",
    "            optim, max_epochs\n",
    "        )\n",
    "        return [optim], [scheduler]"
   ]
  },
  {
   "cell_type": "code",
   "execution_count": 9,
   "id": "1987dca0",
   "metadata": {},
   "outputs": [],
   "source": [
    "model = MocoModel()"
   ]
  },
  {
   "cell_type": "code",
   "execution_count": 11,
   "id": "46053795",
   "metadata": {
    "scrolled": true
   },
   "outputs": [
    {
     "data": {
      "text/plain": [
       "odict_keys(['backbone.0.weight', 'backbone.1.weight', 'backbone.1.bias', 'backbone.1.running_mean', 'backbone.1.running_var', 'backbone.1.num_batches_tracked', 'backbone.2.0.conv1.weight', 'backbone.2.0.bn1.weight', 'backbone.2.0.bn1.bias', 'backbone.2.0.bn1.running_mean', 'backbone.2.0.bn1.running_var', 'backbone.2.0.bn1.num_batches_tracked', 'backbone.2.0.conv2.weight', 'backbone.2.0.bn2.weight', 'backbone.2.0.bn2.bias', 'backbone.2.0.bn2.running_mean', 'backbone.2.0.bn2.running_var', 'backbone.2.0.bn2.num_batches_tracked', 'backbone.2.1.conv1.weight', 'backbone.2.1.bn1.weight', 'backbone.2.1.bn1.bias', 'backbone.2.1.bn1.running_mean', 'backbone.2.1.bn1.running_var', 'backbone.2.1.bn1.num_batches_tracked', 'backbone.2.1.conv2.weight', 'backbone.2.1.bn2.weight', 'backbone.2.1.bn2.bias', 'backbone.2.1.bn2.running_mean', 'backbone.2.1.bn2.running_var', 'backbone.2.1.bn2.num_batches_tracked', 'backbone.3.0.conv1.weight', 'backbone.3.0.bn1.weight', 'backbone.3.0.bn1.bias', 'backbone.3.0.bn1.running_mean', 'backbone.3.0.bn1.running_var', 'backbone.3.0.bn1.num_batches_tracked', 'backbone.3.0.conv2.weight', 'backbone.3.0.bn2.weight', 'backbone.3.0.bn2.bias', 'backbone.3.0.bn2.running_mean', 'backbone.3.0.bn2.running_var', 'backbone.3.0.bn2.num_batches_tracked', 'backbone.3.0.shortcut.0.weight', 'backbone.3.0.shortcut.1.weight', 'backbone.3.0.shortcut.1.bias', 'backbone.3.0.shortcut.1.running_mean', 'backbone.3.0.shortcut.1.running_var', 'backbone.3.0.shortcut.1.num_batches_tracked', 'backbone.3.1.conv1.weight', 'backbone.3.1.bn1.weight', 'backbone.3.1.bn1.bias', 'backbone.3.1.bn1.running_mean', 'backbone.3.1.bn1.running_var', 'backbone.3.1.bn1.num_batches_tracked', 'backbone.3.1.conv2.weight', 'backbone.3.1.bn2.weight', 'backbone.3.1.bn2.bias', 'backbone.3.1.bn2.running_mean', 'backbone.3.1.bn2.running_var', 'backbone.3.1.bn2.num_batches_tracked', 'backbone.4.0.conv1.weight', 'backbone.4.0.bn1.weight', 'backbone.4.0.bn1.bias', 'backbone.4.0.bn1.running_mean', 'backbone.4.0.bn1.running_var', 'backbone.4.0.bn1.num_batches_tracked', 'backbone.4.0.conv2.weight', 'backbone.4.0.bn2.weight', 'backbone.4.0.bn2.bias', 'backbone.4.0.bn2.running_mean', 'backbone.4.0.bn2.running_var', 'backbone.4.0.bn2.num_batches_tracked', 'backbone.4.0.shortcut.0.weight', 'backbone.4.0.shortcut.1.weight', 'backbone.4.0.shortcut.1.bias', 'backbone.4.0.shortcut.1.running_mean', 'backbone.4.0.shortcut.1.running_var', 'backbone.4.0.shortcut.1.num_batches_tracked', 'backbone.4.1.conv1.weight', 'backbone.4.1.bn1.weight', 'backbone.4.1.bn1.bias', 'backbone.4.1.bn1.running_mean', 'backbone.4.1.bn1.running_var', 'backbone.4.1.bn1.num_batches_tracked', 'backbone.4.1.conv2.weight', 'backbone.4.1.bn2.weight', 'backbone.4.1.bn2.bias', 'backbone.4.1.bn2.running_mean', 'backbone.4.1.bn2.running_var', 'backbone.4.1.bn2.num_batches_tracked', 'backbone.5.0.conv1.weight', 'backbone.5.0.bn1.weight', 'backbone.5.0.bn1.bias', 'backbone.5.0.bn1.running_mean', 'backbone.5.0.bn1.running_var', 'backbone.5.0.bn1.num_batches_tracked', 'backbone.5.0.conv2.weight', 'backbone.5.0.bn2.weight', 'backbone.5.0.bn2.bias', 'backbone.5.0.bn2.running_mean', 'backbone.5.0.bn2.running_var', 'backbone.5.0.bn2.num_batches_tracked', 'backbone.5.0.shortcut.0.weight', 'backbone.5.0.shortcut.1.weight', 'backbone.5.0.shortcut.1.bias', 'backbone.5.0.shortcut.1.running_mean', 'backbone.5.0.shortcut.1.running_var', 'backbone.5.0.shortcut.1.num_batches_tracked', 'backbone.5.1.conv1.weight', 'backbone.5.1.bn1.weight', 'backbone.5.1.bn1.bias', 'backbone.5.1.bn1.running_mean', 'backbone.5.1.bn1.running_var', 'backbone.5.1.bn1.num_batches_tracked', 'backbone.5.1.conv2.weight', 'backbone.5.1.bn2.weight', 'backbone.5.1.bn2.bias', 'backbone.5.1.bn2.running_mean', 'backbone.5.1.bn2.running_var', 'backbone.5.1.bn2.num_batches_tracked', 'projection_head.layers.0.weight', 'projection_head.layers.0.bias', 'projection_head.layers.2.weight', 'projection_head.layers.2.bias', 'backbone_momentum.0.weight', 'backbone_momentum.1.weight', 'backbone_momentum.1.bias', 'backbone_momentum.1.running_mean', 'backbone_momentum.1.running_var', 'backbone_momentum.1.num_batches_tracked', 'backbone_momentum.2.0.conv1.weight', 'backbone_momentum.2.0.bn1.weight', 'backbone_momentum.2.0.bn1.bias', 'backbone_momentum.2.0.bn1.running_mean', 'backbone_momentum.2.0.bn1.running_var', 'backbone_momentum.2.0.bn1.num_batches_tracked', 'backbone_momentum.2.0.conv2.weight', 'backbone_momentum.2.0.bn2.weight', 'backbone_momentum.2.0.bn2.bias', 'backbone_momentum.2.0.bn2.running_mean', 'backbone_momentum.2.0.bn2.running_var', 'backbone_momentum.2.0.bn2.num_batches_tracked', 'backbone_momentum.2.1.conv1.weight', 'backbone_momentum.2.1.bn1.weight', 'backbone_momentum.2.1.bn1.bias', 'backbone_momentum.2.1.bn1.running_mean', 'backbone_momentum.2.1.bn1.running_var', 'backbone_momentum.2.1.bn1.num_batches_tracked', 'backbone_momentum.2.1.conv2.weight', 'backbone_momentum.2.1.bn2.weight', 'backbone_momentum.2.1.bn2.bias', 'backbone_momentum.2.1.bn2.running_mean', 'backbone_momentum.2.1.bn2.running_var', 'backbone_momentum.2.1.bn2.num_batches_tracked', 'backbone_momentum.3.0.conv1.weight', 'backbone_momentum.3.0.bn1.weight', 'backbone_momentum.3.0.bn1.bias', 'backbone_momentum.3.0.bn1.running_mean', 'backbone_momentum.3.0.bn1.running_var', 'backbone_momentum.3.0.bn1.num_batches_tracked', 'backbone_momentum.3.0.conv2.weight', 'backbone_momentum.3.0.bn2.weight', 'backbone_momentum.3.0.bn2.bias', 'backbone_momentum.3.0.bn2.running_mean', 'backbone_momentum.3.0.bn2.running_var', 'backbone_momentum.3.0.bn2.num_batches_tracked', 'backbone_momentum.3.0.shortcut.0.weight', 'backbone_momentum.3.0.shortcut.1.weight', 'backbone_momentum.3.0.shortcut.1.bias', 'backbone_momentum.3.0.shortcut.1.running_mean', 'backbone_momentum.3.0.shortcut.1.running_var', 'backbone_momentum.3.0.shortcut.1.num_batches_tracked', 'backbone_momentum.3.1.conv1.weight', 'backbone_momentum.3.1.bn1.weight', 'backbone_momentum.3.1.bn1.bias', 'backbone_momentum.3.1.bn1.running_mean', 'backbone_momentum.3.1.bn1.running_var', 'backbone_momentum.3.1.bn1.num_batches_tracked', 'backbone_momentum.3.1.conv2.weight', 'backbone_momentum.3.1.bn2.weight', 'backbone_momentum.3.1.bn2.bias', 'backbone_momentum.3.1.bn2.running_mean', 'backbone_momentum.3.1.bn2.running_var', 'backbone_momentum.3.1.bn2.num_batches_tracked', 'backbone_momentum.4.0.conv1.weight', 'backbone_momentum.4.0.bn1.weight', 'backbone_momentum.4.0.bn1.bias', 'backbone_momentum.4.0.bn1.running_mean', 'backbone_momentum.4.0.bn1.running_var', 'backbone_momentum.4.0.bn1.num_batches_tracked', 'backbone_momentum.4.0.conv2.weight', 'backbone_momentum.4.0.bn2.weight', 'backbone_momentum.4.0.bn2.bias', 'backbone_momentum.4.0.bn2.running_mean', 'backbone_momentum.4.0.bn2.running_var', 'backbone_momentum.4.0.bn2.num_batches_tracked', 'backbone_momentum.4.0.shortcut.0.weight', 'backbone_momentum.4.0.shortcut.1.weight', 'backbone_momentum.4.0.shortcut.1.bias', 'backbone_momentum.4.0.shortcut.1.running_mean', 'backbone_momentum.4.0.shortcut.1.running_var', 'backbone_momentum.4.0.shortcut.1.num_batches_tracked', 'backbone_momentum.4.1.conv1.weight', 'backbone_momentum.4.1.bn1.weight', 'backbone_momentum.4.1.bn1.bias', 'backbone_momentum.4.1.bn1.running_mean', 'backbone_momentum.4.1.bn1.running_var', 'backbone_momentum.4.1.bn1.num_batches_tracked', 'backbone_momentum.4.1.conv2.weight', 'backbone_momentum.4.1.bn2.weight', 'backbone_momentum.4.1.bn2.bias', 'backbone_momentum.4.1.bn2.running_mean', 'backbone_momentum.4.1.bn2.running_var', 'backbone_momentum.4.1.bn2.num_batches_tracked', 'backbone_momentum.5.0.conv1.weight', 'backbone_momentum.5.0.bn1.weight', 'backbone_momentum.5.0.bn1.bias', 'backbone_momentum.5.0.bn1.running_mean', 'backbone_momentum.5.0.bn1.running_var', 'backbone_momentum.5.0.bn1.num_batches_tracked', 'backbone_momentum.5.0.conv2.weight', 'backbone_momentum.5.0.bn2.weight', 'backbone_momentum.5.0.bn2.bias', 'backbone_momentum.5.0.bn2.running_mean', 'backbone_momentum.5.0.bn2.running_var', 'backbone_momentum.5.0.bn2.num_batches_tracked', 'backbone_momentum.5.0.shortcut.0.weight', 'backbone_momentum.5.0.shortcut.1.weight', 'backbone_momentum.5.0.shortcut.1.bias', 'backbone_momentum.5.0.shortcut.1.running_mean', 'backbone_momentum.5.0.shortcut.1.running_var', 'backbone_momentum.5.0.shortcut.1.num_batches_tracked', 'backbone_momentum.5.1.conv1.weight', 'backbone_momentum.5.1.bn1.weight', 'backbone_momentum.5.1.bn1.bias', 'backbone_momentum.5.1.bn1.running_mean', 'backbone_momentum.5.1.bn1.running_var', 'backbone_momentum.5.1.bn1.num_batches_tracked', 'backbone_momentum.5.1.conv2.weight', 'backbone_momentum.5.1.bn2.weight', 'backbone_momentum.5.1.bn2.bias', 'backbone_momentum.5.1.bn2.running_mean', 'backbone_momentum.5.1.bn2.running_var', 'backbone_momentum.5.1.bn2.num_batches_tracked', 'projection_head_momentum.layers.0.weight', 'projection_head_momentum.layers.0.bias', 'projection_head_momentum.layers.2.weight', 'projection_head_momentum.layers.2.bias'])"
      ]
     },
     "execution_count": 11,
     "metadata": {},
     "output_type": "execute_result"
    }
   ],
   "source": [
    "model.state_dict().keys()"
   ]
  },
  {
   "cell_type": "code",
   "execution_count": null,
   "id": "cfb134c1",
   "metadata": {},
   "outputs": [],
   "source": []
  }
 ],
 "metadata": {
  "kernelspec": {
   "display_name": "Python 3 (ipykernel)",
   "language": "python",
   "name": "python3"
  },
  "language_info": {
   "codemirror_mode": {
    "name": "ipython",
    "version": 3
   },
   "file_extension": ".py",
   "mimetype": "text/x-python",
   "name": "python",
   "nbconvert_exporter": "python",
   "pygments_lexer": "ipython3",
   "version": "3.9.7"
  }
 },
 "nbformat": 4,
 "nbformat_minor": 5
}
